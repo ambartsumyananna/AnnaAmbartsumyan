{
 "cells": [
  {
   "cell_type": "code",
   "execution_count": 9,
   "metadata": {},
   "outputs": [],
   "source": [
    "d = {'word': 'Econometrics',\n",
    "    \"sentence\": 'If the implementation is easy to explain, it may be a good idea.',\n",
    "    'big_list': [\"python\", 3, \"anaconda\", 3.6, \"jupyter\", 10, \"lessons\", \"many\", 99],\n",
    "    \"empty_list\": []}"
   ]
  },
  {
   "cell_type": "code",
   "execution_count": 10,
   "metadata": {},
   "outputs": [],
   "source": [
    "#1,2\n",
    "if not d['word'].isupper():\n",
    "    d['word'] =\"Applied_\"+ d['word'].upper() "
   ]
  },
  {
   "cell_type": "code",
   "execution_count": 11,
   "metadata": {},
   "outputs": [
    {
     "data": {
      "text/plain": [
       "{'word': 'Applied_ECONOMETRICS',\n",
       " 'sentence': 'If the implementation is easy to explain, it may be a good idea.',\n",
       " 'big_list': ['python',\n",
       "  3,\n",
       "  'anaconda',\n",
       "  3.6,\n",
       "  'jupyter',\n",
       "  10,\n",
       "  'lessons',\n",
       "  'many',\n",
       "  99],\n",
       " 'empty_list': []}"
      ]
     },
     "execution_count": 11,
     "metadata": {},
     "output_type": "execute_result"
    }
   ],
   "source": [
    "d"
   ]
  },
  {
   "cell_type": "code",
   "execution_count": 12,
   "metadata": {},
   "outputs": [
    {
     "data": {
      "text/plain": [
       "'If the implementation is easy to explain, it may be a good think.'"
      ]
     },
     "execution_count": 12,
     "metadata": {},
     "output_type": "execute_result"
    }
   ],
   "source": [
    "#3\n",
    "d['sentence'].replace(\"idea\", \"think\")"
   ]
  },
  {
   "cell_type": "code",
   "execution_count": 14,
   "metadata": {},
   "outputs": [
    {
     "name": "stdout",
     "output_type": "stream",
     "text": [
      "p\n",
      "a\n",
      "j\n",
      "l\n",
      "m\n"
     ]
    }
   ],
   "source": [
    "#4\n",
    "for item in d['big_list']:\n",
    "    if type(item) == str:\n",
    "        print(item[0])"
   ]
  },
  {
   "cell_type": "code",
   "execution_count": 15,
   "metadata": {},
   "outputs": [
    {
     "name": "stdout",
     "output_type": "stream",
     "text": [
      "112\n",
      "100\n"
     ]
    }
   ],
   "source": [
    "#5       \n",
    "sum = 0\n",
    "for item in d['big_list']:\n",
    "    if type(item) == int:\n",
    "        sum+= item\n",
    "print(sum)\n",
    "sum1 = 0\n",
    "d['big_list'].remove(d['big_list'][-1])\n",
    "d['big_list'].append(87)\n",
    "for item in d['big_list']:\n",
    "    if type(item) == int:\n",
    "        sum1+= item\n",
    "print(sum1)"
   ]
  },
  {
   "cell_type": "code",
   "execution_count": 31,
   "metadata": {},
   "outputs": [
    {
     "data": {
      "text/plain": [
       "['python', 3, 'hello', 3.6, 'jupyter', 10, 'lessons', 'many', 99]"
      ]
     },
     "execution_count": 31,
     "metadata": {},
     "output_type": "execute_result"
    }
   ],
   "source": [
    "#6\n",
    "big_list = [\"python\", 3, \"anaconda\", 3.6, \"jupyter\", 10, \"lessons\", \"many\", 99]\n",
    "big_list[2] = \"hello\"\n",
    "big_list\n"
   ]
  },
  {
   "cell_type": "code",
   "execution_count": 26,
   "metadata": {},
   "outputs": [
    {
     "name": "stdout",
     "output_type": "stream",
     "text": [
      "20 20\n",
      "Applied_ECONOMETRICS\n",
      "If the implementation is easy to explain, it may be a good idea.\n",
      "['python', 3, 'anaconda', 3.6, 'jupyter', 10, 'lessons', 'many', 87]\n",
      "[]\n"
     ]
    }
   ],
   "source": [
    "#7\n",
    "ls = []\n",
    "count_odd = 0\n",
    "count_prime = 0\n",
    "for a in range(10,50):\n",
    "    ls.append(a)\n",
    "\n",
    "for b in ls:\n",
    "    if b % 2 == 0:\n",
    "        count_prime +=1\n",
    "    elif b % 2 == 1:\n",
    "        count_odd +=1\n",
    "\n",
    "print(count_odd, count_prime)\n",
    "\n",
    "\n",
    "for key in d:\n",
    "    print(d[key])"
   ]
  },
  {
   "cell_type": "code",
   "execution_count": null,
   "metadata": {},
   "outputs": [],
   "source": []
  }
 ],
 "metadata": {
  "interpreter": {
   "hash": "5f292722d6d50c2426abae6fd15a85386b49c5393ec98f1c35f79e4e4dd7448b"
  },
  "kernelspec": {
   "display_name": "Python 3.7.3 ('base')",
   "language": "python",
   "name": "python3"
  },
  "language_info": {
   "codemirror_mode": {
    "name": "ipython",
    "version": 3
   },
   "file_extension": ".py",
   "mimetype": "text/x-python",
   "name": "python",
   "nbconvert_exporter": "python",
   "pygments_lexer": "ipython3",
   "version": "3.7.3"
  },
  "orig_nbformat": 4
 },
 "nbformat": 4,
 "nbformat_minor": 2
}
